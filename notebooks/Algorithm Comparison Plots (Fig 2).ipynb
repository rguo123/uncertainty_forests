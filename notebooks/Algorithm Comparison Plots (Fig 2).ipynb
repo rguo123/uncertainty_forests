{
 "cells": [
  {
   "cell_type": "code",
   "execution_count": 1,
   "metadata": {},
   "outputs": [
    {
     "data": {
      "image/png": "[encoded data removed]",
      "text/plain": [
       "<Figure size 432x288 with 1 Axes>"
      ]
     },
     "metadata": {},
     "output_type": "display_data"
    }
   ],
   "source": [
    "import numpy as np\n",
    "\n",
    "# NOTE: we are storing y's as 1's or 0's but still doing the mean stuff correctly\n",
    "def get_sample(n, mean, var):\n",
    "    x_sample = []\n",
    "    y_sample = []\n",
    "    for i in range(n):\n",
    "        y = np.random.binomial(1, .5)\n",
    "        if (y == 0):\n",
    "            x = np.random.normal(-mean, var)\n",
    "        else:\n",
    "            x = np.random.normal(mean, var)\n",
    "        x_sample.append(x)\n",
    "        y_sample.append(y)\n",
    "    return x_sample, y_sample\n",
    "\n",
    "import seaborn as sns\n",
    "import matplotlib.pyplot as plt\n",
    "%matplotlib inline\n",
    "sns.set(font_scale=1.3)\n",
    "\n",
    "def split_by_class(sample):\n",
    "    y_one = [pair for pair in sample if pair[1] == 1]\n",
    "    y_neg_one = [pair for pair in sample if pair[1] == 0]\n",
    "    return y_one, y_neg_one\n",
    "\n",
    "X, y = get_sample(100000, 2, 1)\n",
    "sample = list(zip(X, y))\n",
    "class_one, class_neg_one = split_by_class(sample)\n",
    "sns.distplot(list(zip(*class_one))[0], hist=False)\n",
    "sns.distplot(list(zip(*class_neg_one))[0], hist=False)\n",
    "plt.title(\"Distribution Plot with Mean = 10\")\n",
    "plt.show()"
   ]
  },
  {
   "cell_type": "code",
   "execution_count": 2,
   "metadata": {},
   "outputs": [
    {
     "name": "stderr",
     "output_type": "stream",
     "text": [
      "/usr/local/lib/python3.7/site-packages/sklearn/ensemble/weight_boosting.py:29: DeprecationWarning: numpy.core.umath_tests is an internal NumPy module and should not be imported. It will be removed in a future NumPy release.\n",
      "  from numpy.core.umath_tests import inner1d\n"
     ]
    }
   ],
   "source": [
    "from sklearn.model_selection import train_test_split\n",
    "import numpy as np\n",
    "from sklearn.ensemble import RandomForestClassifier\n",
    "from sklearn import tree\n",
    "from scipy.stats import entropy\n",
    "\n",
    "def CART_estimate(X, y, n_trees = 300, bootstrap = True, depth = 30):\n",
    "    model = RandomForestClassifier(bootstrap = bootstrap, n_estimators =n_trees, max_depth = depth, max_features = math.ceil(int(math.sqrt(X.shape[1]))))\n",
    "    model.fit(X, y)\n",
    "    class_counts = np.zeros((X.shape[0], model.n_classes_))\n",
    "    for tree_in_forest in model:\n",
    "        # get number of training elements in each partition\n",
    "        node_counts = tree_in_forest.tree_.n_node_samples\n",
    "        # get counts for all x (x.length array)\n",
    "        partition_counts = np.asarray([node_counts[x] for x in tree_in_forest.apply(X)])\n",
    "        # get class probability for all x (x.length, n_classes)\n",
    "        class_probs = tree_in_forest.predict_proba(X)\n",
    "        # get elements by performing row wise multiplication\n",
    "        elems = np.multiply(class_probs, partition_counts[:, np.newaxis])\n",
    "        # update counts for that tree\n",
    "        class_counts += elems\n",
    "    probs = class_counts/class_counts.sum(axis=1, keepdims=True)\n",
    "    entropies = -np.sum(np.log(probs)*probs, axis = 1)\n",
    "    # convert nan to 0\n",
    "    entropies = np.nan_to_num(entropies)\n",
    "    return np.mean(entropies)"
   ]
  },
  {
   "cell_type": "code",
   "execution_count": 3,
   "metadata": {},
   "outputs": [],
   "source": [
    "def honesty_estimate(X, y, n_estimators = 200, max_samples = .32, bootstrap = True, depth = 30, min_samples_leaf = 1):\n",
    "    model = BaggingClassifier(DecisionTreeClassifier(max_depth = depth, min_samples_leaf = min_samples_leaf, max_features = math.ceil(int(math.sqrt(X.shape[1])))), \n",
    "                              n_estimators = n_estimators, \n",
    "                              max_samples= max_samples, \n",
    "                              bootstrap = bootstrap)\n",
    "    model.fit(X, y)\n",
    "    class_counts = np.zeros((X.shape[0], model.n_classes_))\n",
    "    for tree in model:\n",
    "        # get out of bag indicies\n",
    "        unsampled_indices = _generate_unsampled_indices(tree.random_state, len(X))\n",
    "\n",
    "        total_unsampled = len(unsampled_indices)\n",
    "        np.random.shuffle(unsampled_indices)\n",
    "        prob_indices, eval_indices = unsampled_indices[:total_unsampled//2], unsampled_indices[total_unsampled//2:]\n",
    "        # get all node counts\n",
    "        node_counts = tree.tree_.n_node_samples\n",
    "        # get probs for eval samples\n",
    "        posterior_class_counts = np.zeros((len(node_counts), model.n_classes_))\n",
    "        for prob_index in prob_indices:\n",
    "            posterior_class_counts[tree.apply(X[prob_index].reshape(1, -1)).item(), y[prob_index]] += 1\n",
    "        row_sums = posterior_class_counts.sum(axis=1)\n",
    "        row_sums[row_sums == 0] = 1\n",
    "        class_probs = (posterior_class_counts/row_sums[:, None])\n",
    "        class_probs.tolist()\n",
    "        partition_counts = np.asarray([node_counts[x] for x in tree.apply(X[eval_indices])])\n",
    "        # get probability for out of bag samples\n",
    "        eval_class_probs = [class_probs[x] for x in tree.apply(X[eval_indices])]\n",
    "        eval_class_probs = np.array(eval_class_probs)\n",
    "        # find total elements for out of bag samples\n",
    "        elems = np.multiply(eval_class_probs, partition_counts[:, np.newaxis])\n",
    "        # store counts for each x (repeat fhis for each tree)\n",
    "        class_counts[eval_indices] += elems\n",
    "    # calculate p(y|X = x) for all x's\n",
    "    probs = class_counts/class_counts.sum(axis = 1, keepdims = True)\n",
    "    entropies = -np.sum(np.log(probs)*probs, axis = 1)\n",
    "    # convert nan to 0\n",
    "    entropies = np.nan_to_num(entropies)\n",
    "    return np.mean(entropies)"
   ]
  },
  {
   "cell_type": "code",
   "execution_count": 4,
   "metadata": {},
   "outputs": [],
   "source": [
    "def cef_estimate(X, y, n_estimators = 200, max_samples = .32, bootstrap = True, depth = 30, min_samples_leaf = 1, max_features = 1.):\n",
    "    model = BaggingClassifier(DecisionTreeClassifier(max_depth = depth, min_samples_leaf = min_samples_leaf, max_features = math.ceil(int(math.sqrt(X.shape[1])))), \n",
    "                              n_estimators = n_estimators, \n",
    "                              max_samples= max_samples, \n",
    "                              bootstrap = bootstrap)\n",
    "    model.fit(X, y)\n",
    "    class_counts = np.zeros((X.shape[0], model.n_classes_))\n",
    "    for tree in model:\n",
    "        # get out of bag indicies\n",
    "        unsampled_indices = _generate_unsampled_indices(tree.random_state, len(X))\n",
    "        \n",
    "        total_unsampled = len(unsampled_indices)\n",
    "        np.random.shuffle(unsampled_indices)\n",
    "        prob_indices, eval_indices = unsampled_indices[:total_unsampled//2], unsampled_indices[total_unsampled//2:]\n",
    "        # get all node counts\n",
    "        node_counts = tree.tree_.n_node_samples\n",
    "        # get probs for eval samples\n",
    "        posterior_class_counts = np.zeros((len(node_counts), model.n_classes_))\n",
    "        for prob_index in prob_indices:\n",
    "            posterior_class_counts[tree.apply(X[prob_index].reshape(1, -1)).item(), y[prob_index]] += 1\n",
    "        row_sums = posterior_class_counts.sum(axis=1)\n",
    "        row_sums[row_sums == 0] = 1\n",
    "        class_probs = (posterior_class_counts/row_sums[:, None])\n",
    "        \n",
    "        where_0 = np.argwhere(class_probs == 0)\n",
    "        for elem in where_0:\n",
    "            class_probs[elem[0], elem[1]] = 1/(2*row_sums[elem[0], None])\n",
    "        where_1 = np.argwhere(class_probs == 1)\n",
    "        for elem in where_1:\n",
    "            class_probs[elem[0], elem[1]] = 1 - 1/(2*row_sums[elem[0], None])\n",
    "        \n",
    "        class_probs.tolist()\n",
    "        partition_counts = np.asarray([node_counts[x] for x in tree.apply(X[eval_indices])])\n",
    "        # get probability for out of bag samples\n",
    "        eval_class_probs = [class_probs[x] for x in tree.apply(X[eval_indices])]\n",
    "        eval_class_probs = np.array(eval_class_probs)\n",
    "        # find total elements for out of bag samples\n",
    "        elems = np.multiply(eval_class_probs, partition_counts[:, np.newaxis])\n",
    "        # store counts for each x (repeat fhis for each tree)\n",
    "        class_counts[eval_indices] += elems\n",
    "    # calculate p(y|X = x) for all x's\n",
    "    probs = class_counts/class_counts.sum(axis = 1, keepdims = True)\n",
    "    entropies = -np.sum(np.log(probs)*probs, axis = 1)\n",
    "    # convert nan to 0\n",
    "    entropies = np.nan_to_num(entropies)\n",
    "    return np.mean(entropies)"
   ]
  },
  {
   "cell_type": "markdown",
   "metadata": {},
   "source": [
    "# RUN MULTIPLE TRIALS (cond entropy vs increasing n)"
   ]
  },
  {
   "cell_type": "code",
   "execution_count": null,
   "metadata": {},
   "outputs": [],
   "source": [
    "from tqdm import tqdm_notebook\n",
    "def get_cond_entropy_vs_n(mean):\n",
    "    cef_all = []\n",
    "    cart_all = []\n",
    "    honest_all = []\n",
    "    sample_sizes = [i*50 for i in range(1, 51)]\n",
    "    for i in tqdm_notebook(range(5)):\n",
    "        cef = []\n",
    "        cart = []\n",
    "        honest = []\n",
    "        for elem in tqdm_notebook(sample_sizes):\n",
    "            X, y = get_sample(elem, mean, 1)\n",
    "            cef.append(cef_estimate(np.array(X).reshape(-1, 1), y, 300, .32, depth = 30))\n",
    "            cart.append(CART_estimate(np.array(X).reshape(-1, 1), y, 300, .32, depth = 30))\n",
    "            honest.append(honesty_estimate(np.array(X).reshape(-1, 1), y, 300, .32, depth = 30))\n",
    "        cef_all.append(cef)\n",
    "        cart_all.append(cart)\n",
    "        honest_all.append(honest)\n",
    "    return sample_sizes, cef_all, cart_all, honest_all\n",
    "\n",
    "sample_sizes, cef, cart, honest = get_cond_entropy_vs_n(1)\n"
   ]
  },
  {
   "cell_type": "markdown",
   "metadata": {},
   "source": [
    "# PLOT"
   ]
  },
  {
   "cell_type": "code",
   "execution_count": null,
   "metadata": {},
   "outputs": [],
   "source": [
    "sns.set(font_scale = 3.5)\n",
    "sns.set_style(\"ticks\")\n",
    "plt.figure()\n",
    "plt.rcParams[\"font.family\"] = \"sans-serif\"\n",
    "plt.rcParams['figure.figsize'] = [15, 10]\n",
    "\n",
    "plt.plot(sample_sizes, np.mean(cef, axis = 0).flatten(), label = \"UF\", linewidth = 2, color = \"#F41711\")\n",
    "plt.plot(sample_sizes, np.mean(cart, axis = 0).flatten(), label = \"CART\", linewidth = 2, color = \"#35978f\")\n",
    "plt.plot(sample_sizes, np.mean(honest, axis = 0).flatten(), label = \"Honesty\", linewidth = 2, color = \"#fdae61\")\n",
    "\n",
    "\n",
    "for i in range(1, len(cef)):\n",
    "    plt.plot(sample_sizes, cef[i], linewidth = 4, color = \"#F41711\", alpha = .15)\n",
    "    \n",
    "for i in range(1, len(cart)):\n",
    "    plt.plot(sample_sizes, cart[i], linewidth = 4, color = \"#35978f\", alpha = .15)\n",
    "\n",
    "for i in range(1, len(honest)):\n",
    "    plt.plot(sample_sizes, honest[i], linewidth = 4, color = \"#fdae61\", alpha = .15)\n",
    "\n",
    "line_true = plt.axhline(y=.356,linestyle='-', color = \"black\", label = \"Truth\")\n",
    "\n",
    "plt.xlabel(\"Sample Size\")\n",
    "plt.ylabel(\"$\\hat H(Y|X)$\")\n",
    "plt.ylim(ymin = 0)\n",
    "plt.ylim(ymax = .8)\n",
    "plt.yticks(fontsize=30)\n",
    "plt.xticks(fontsize=30)\n",
    "plt.legend()\n",
    "#plt.title(\"H(Y|X) Estimate vs Sample Size with Mean = 1\")\n",
    "plt.tight_layout()\n",
    "plt.savefig(\"f19/alg_comparison_final_noerror_20_f19.pdf\")\n",
    "plt.show()"
   ]
  },
  {
   "cell_type": "markdown",
   "metadata": {},
   "source": [
    "# Cond entropy vs increasing size effect"
   ]
  },
  {
   "cell_type": "code",
   "execution_count": null,
   "metadata": {},
   "outputs": [],
   "source": [
    "from tqdm import tqdm_notebook\n",
    "def get_cond_entropy_vs_mean(n):\n",
    "    cef_all = []\n",
    "    cart_all = []\n",
    "    honest_all = []\n",
    "    means = [i*.2 for i in range(1, 26)]\n",
    "    for i in tqdm_notebook(range(1)):\n",
    "        cef = []\n",
    "        cart = []\n",
    "        honest = []\n",
    "        for elem in tqdm_notebook(means):\n",
    "            X, y = get_sample(n, elem, 1)\n",
    "            cef.append(cef_estimate(np.array(X).reshape(-1, 1), y, 300, .32, depth = 30))\n",
    "            cart.append(CART_estimate(np.array(X).reshape(-1, 1), y, 300, .32, depth = 30))\n",
    "            honest.append(honesty_estimate(np.array(X).reshape(-1, 1), y, 300, .32, depth = 30))\n",
    "        return means, cef, cart, honest\n",
    "        cef_all.append(cef)\n",
    "        cart_all.append(cart)\n",
    "        honest_all.append(honest)\n",
    "    return means, cef_all, cart_all, honest_all\n",
    "\n",
    "means, cef, cart, honest = get_cond_entropy_vs_mean(6000)\n"
   ]
  },
  {
   "cell_type": "markdown",
   "metadata": {},
   "source": [
    "# Plot"
   ]
  },
  {
   "cell_type": "code",
   "execution_count": 6,
   "metadata": {},
   "outputs": [],
   "source": [
    "# manually pulled this from another notebook at the time so i didn't have to copy over truth code... \n",
    "\n",
    "means = [i*.2 for i in range(1, 26)]\n",
    "truth_conv_0 = [0.6735370073650998, 0.6189692437717479, 0.5399034434539033, 0.4486737716598367, 0.3563163602131132, 0.27102261528784277, 0.19775486449393131, 0.13857182418695446, 0.09331921299360335, 0.06042698682307801, 0.03763527535397637, 0.0225502735611931, 0.013000284813206697, 0.007211483620446213, 0.003849247530866684, 0.001976984201405685, 0.000977001437482805, 0.0004645526656417154, 0.00021252115348691092, 9.353507702591912e-05, 3.9603053948678024e-05, 1.6130245027223822e-05, 6.319574855861987e-06, 2.381477290036571e-06, 8.631660444180511e-07]"
   ]
  },
  {
   "cell_type": "code",
   "execution_count": null,
   "metadata": {},
   "outputs": [],
   "source": [
    "sns.set(font_scale = 3.5)\n",
    "sns.set_style(\"ticks\")\n",
    "plt.figure()\n",
    "plt.rcParams[\"font.family\"] = \"sans-serif\"\n",
    "plt.rcParams['figure.figsize'] = [15, 10]\n",
    "\n",
    "line_cf, = plt.plot(means, cef, label = \"CF\", linewidth = 4, color = \"#F41711\")\n",
    "\n",
    "line_cart, = plt.plot(means, cart, label = 'CART', linewidth = 4, color = \"#35978f\")\n",
    "\n",
    "line_honest, = plt.plot(means, honest, label = \"Honesty\", linewidth = 4, color = \"#fdae61\")\n",
    "\n",
    "line_true, = plt.plot(means, truth_conv_0, label = \"Truth\", linewidth = 4, color = 'black')\n",
    "\n",
    "plt.ylim(ymin = -.05)\n",
    "plt.ylim(ymax = .8)\n",
    "#plt.legend(handles=[line_cf, line_cart, line_honest, line_true])\n",
    "plt.yticks(fontsize=30)\n",
    "plt.xticks(fontsize=30)\n",
    "plt.xlabel(\"Effect Size \" + u'(\\u03bc)')\n",
    "plt.ylabel(\"$\\hat H(Y|X)$\")\n",
    "plt.tight_layout()\n",
    "plt.savefig(\"alg_comp_1d_n6000_conv0_final_noerror_f19.pdf\")\n",
    "plt.show()"
   ]
  },
  {
   "cell_type": "markdown",
   "metadata": {},
   "source": [
    "# Multiple dimensions"
   ]
  },
  {
   "cell_type": "code",
   "execution_count": 7,
   "metadata": {},
   "outputs": [
    {
     "data": {
      "image/png": "[encoded data removed]",
      "text/plain": [
       "<Figure size 432x288 with 1 Axes>"
      ]
     },
     "metadata": {
      "needs_background": "light"
     },
     "output_type": "display_data"
    },
    {
     "data": {
      "image/png": "[encoded data removed]",
      "text/plain": [
       "<Figure size 432x288 with 1 Axes>"
      ]
     },
     "metadata": {
      "needs_background": "light"
     },
     "output_type": "display_data"
    }
   ],
   "source": [
    "def get_multivariate_sample(n, d, mean):\n",
    "    x_sample = []\n",
    "    y_sample = []\n",
    "    means = np.zeros(d)\n",
    "    means[0] = mean\n",
    "    for i in range(n):\n",
    "        y = np.random.binomial(1, .5)\n",
    "        if (y == 0):\n",
    "            x = np.random.multivariate_normal(-means, np.identity(d))\n",
    "        else:\n",
    "            x = np.random.multivariate_normal(means, np.identity(d))\n",
    "        x_sample.append(x.tolist())\n",
    "        y_sample.append(y)\n",
    "    return x_sample, y_sample\n",
    "\n",
    "def split_by_class(sample):\n",
    "    y_one = [pair for pair in sample if pair[1] == 1]\n",
    "    y_neg_one = [pair for pair in sample if pair[1] == 0]\n",
    "    return y_one, y_neg_one\n",
    "\n",
    "X, y = get_multivariate_sample(1000, 2, 2)\n",
    "sample = list(zip(X, y))\n",
    "class_one, class_neg_one = split_by_class(sample)\n",
    "plt.scatter([x[0] for x in list(zip(*class_one))[0]], [x[1] for x in list(zip(*class_one))[0]], c = 'b')\n",
    "plt.scatter([x[0] for x in list(zip(*class_neg_one))[0]], [x[1] for x in list(zip(*class_neg_one))[0]], c = 'orange')\n",
    "plt.title(\"Distribution Plot with Mean = 2\")\n",
    "plt.show()\n",
    "\n",
    "X, y = get_multivariate_sample(1000, 2, 1)\n",
    "sample = list(zip(X, y))\n",
    "class_one, class_neg_one = split_by_class(sample)\n",
    "plt.scatter([x[0] for x in list(zip(*class_one))[0]], [x[1] for x in list(zip(*class_one))[0]], c = 'b')\n",
    "plt.scatter([x[0] for x in list(zip(*class_neg_one))[0]], [x[1] for x in list(zip(*class_neg_one))[0]], c = 'orange')\n",
    "plt.title(\"Distribution Plot with Mean = 1\")\n",
    "plt.show()\n"
   ]
  },
  {
   "cell_type": "markdown",
   "metadata": {},
   "source": [
    "# Increasing n"
   ]
  },
  {
   "cell_type": "code",
   "execution_count": 8,
   "metadata": {},
   "outputs": [],
   "source": [
    "def get_cond_entropy_vs_n(mean, d):\n",
    "    cef_all = []\n",
    "    cart_all = []\n",
    "    honest_all = []\n",
    "    sample_sizes = [i*400 for i in range(1, 26)]\n",
    "    for i in tqdm_notebook(range(20)):\n",
    "        cef = []\n",
    "        cart = []\n",
    "        honest = []\n",
    "        for elem in tqdm_notebook(sample_sizes):\n",
    "            X, y = get_multivariate_sample(elem, d, mean)\n",
    "            cef.append(cef_estimate(np.array(X), y, 300, .32, depth = 30))\n",
    "            cart.append(CART_estimate(np.array(X), y, 300, .32, depth = 30))\n",
    "            honest.append(honesty_estimate(np.array(X), y, 300, .32, depth = 30))\n",
    "        cef_all.append(cef)\n",
    "        cart_all.append(cart)\n",
    "        honest_all.append(honest)\n",
    "    return sample_sizes, cef_all, cart_all, honest_all\n",
    "\n",
    "sample_sizes, cef, cart, honest = get_cond_entropy_vs_n(1, 40)\n"
   ]
  },
  {
   "cell_type": "code",
   "execution_count": null,
   "metadata": {},
   "outputs": [],
   "source": [
    "sns.set(font_scale = 3.5)\n",
    "sns.set_style(\"ticks\")\n",
    "plt.figure()\n",
    "plt.rcParams[\"font.family\"] = \"sans-serif\"\n",
    "plt.rcParams['figure.figsize'] = [15, 10]\n",
    "\n",
    "plt.plot(sample_sizes, np.mean(cef, axis = 0).flatten(), label = \"CF\", linewidth = 2, color = \"#F41711\")\n",
    "plt.plot(sample_sizes, np.mean(cart, axis = 0).flatten(), label = \"CART\", linewidth = 2, color = \"#35978f\")\n",
    "plt.plot(sample_sizes, np.mean(honest, axis = 0).flatten(), label = \"Honesty\", linewidth = 2, color = \"#fdae61\")\n",
    "\n",
    "\n",
    "for i in range(1, len(cef)):\n",
    "    plt.plot(sample_sizes, cef[i], linewidth = 4, color = \"#F41711\", alpha = .15)\n",
    "    \n",
    "for i in range(1, len(cart)):\n",
    "    plt.plot(sample_sizes, cart[i], linewidth = 4, color = \"#35978f\", alpha = .15)\n",
    "\n",
    "for i in range(1, len(honest)):\n",
    "    plt.plot(sample_sizes, honest[i], linewidth = 4, color = \"#fdae61\", alpha = .15)\n",
    "\n",
    "line_true = plt.axhline(y=.356,linestyle='-', color = \"black\", label = \"Truth\")\n",
    "\n",
    "plt.xlabel(\"Sample Size\")\n",
    "plt.ylabel(\"$\\hat H(Y|X)$\")\n",
    "plt.ylim(ymin = 0)\n",
    "plt.ylim(ymax = .8)\n",
    "plt.yticks(fontsize=30)\n",
    "plt.xticks(fontsize=30)\n",
    "#plt.legend()\n",
    "#plt.title(\"H(Y|X) Estimate vs Sample Size with Mean = 1\")\n",
    "plt.tight_layout()\n",
    "plt.savefig(\"alg_comparison_final_noerror_20_40d.pdf\")\n",
    "plt.show()"
   ]
  },
  {
   "cell_type": "code",
   "execution_count": null,
   "metadata": {},
   "outputs": [],
   "source": []
  },
  {
   "cell_type": "markdown",
   "metadata": {},
   "source": [
    "# Increasing effect size"
   ]
  },
  {
   "cell_type": "code",
   "execution_count": null,
   "metadata": {},
   "outputs": [],
   "source": [
    "from tqdm import tqdm_notebook\n",
    "def get_cond_entropy_vs_mean(n):\n",
    "    cef_all = []\n",
    "    cart_all = []\n",
    "    honest_all = []\n",
    "    means = [i*.2 for i in range(1, 26)]\n",
    "    for i in tqdm_notebook(range(1)):\n",
    "        cef = []\n",
    "        cart = []\n",
    "        honest = []\n",
    "        for elem in tqdm_notebook(means):\n",
    "            X, y = get_multivariate_sample(n, 40, elem)\n",
    "            cef.append(cef_estimate(np.array(X), y, 300, .32, depth = 30))\n",
    "            cart.append(CART_estimate(np.array(X), y, 300, .32, depth = 30))\n",
    "            honest.append(honesty_estimate(np.array(X), y, 300, .32, depth = 30))\n",
    "        return means, cef, cart, honest\n",
    "        cef_all.append(cef)\n",
    "        cart_all.append(cart)\n",
    "        honest_all.append(honest)\n",
    "    return means, cef_all, cart_all, honest_all\n",
    "\n",
    "means, cef, cart, honest = get_cond_entropy_vs_mean(10000)\n"
   ]
  },
  {
   "cell_type": "code",
   "execution_count": null,
   "metadata": {},
   "outputs": [],
   "source": [
    "sns.set(font_scale = 3.5)\n",
    "sns.set_style(\"ticks\")\n",
    "plt.figure()\n",
    "plt.rcParams[\"font.family\"] = \"sans-serif\"\n",
    "plt.rcParams['figure.figsize'] = [15, 10]\n",
    "\n",
    "line_cf, = plt.plot(means, cef, label = \"CF\", linewidth = 4, color = \"#F41711\")\n",
    "\n",
    "line_cart, = plt.plot(means, cart, label = 'CART', linewidth = 4, color = \"#35978f\")\n",
    "\n",
    "line_honest, = plt.plot(means, honest, label = \"Honesty\", linewidth = 4, color = \"#fdae61\")\n",
    "\n",
    "line_true, = plt.plot(means, truth_conv_0, label = \"Truth\", linewidth = 4, color = 'black')\n",
    "\n",
    "plt.ylim(ymin = -.05)\n",
    "plt.ylim(ymax = .8)\n",
    "#plt.legend(handles=[line_cf, line_cart, line_honest, line_true])\n",
    "plt.yticks(fontsize=30)\n",
    "plt.xticks(fontsize=30)\n",
    "plt.xlabel(\"Effect Size \" + u'(\\u03bc)')\n",
    "plt.ylabel(\"$\\hat H(Y|X)$\")\n",
    "plt.tight_layout()\n",
    "plt.savefig(\"alg_comp_40d_n10000_conv0_final_noerror.pdf\")\n",
    "plt.show()"
   ]
  }
 ],
 "metadata": {
  "kernelspec": {
   "display_name": "Python 3",
   "language": "python",
   "name": "python3"
  },
  "language_info": {
   "codemirror_mode": {
    "name": "ipython",
    "version": 3
   },
   "file_extension": ".py",
   "mimetype": "text/x-python",
   "name": "python",
   "nbconvert_exporter": "python",
   "pygments_lexer": "ipython3",
   "version": "3.7.0"
  }
 },
 "nbformat": 4,
 "nbformat_minor": 2
}
